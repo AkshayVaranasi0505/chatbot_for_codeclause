{
  "nbformat": 4,
  "nbformat_minor": 0,
  "metadata": {
    "colab": {
      "provenance": []
    },
    "kernelspec": {
      "name": "python3",
      "display_name": "Python 3"
    },
    "language_info": {
      "name": "python"
    }
  },
  "cells": [
    {
      "cell_type": "markdown",
      "source": [
        "Datascience  intern at  codeclause\n",
        "\n",
        "Golden Project: Chatbot for codeclause\n",
        "\n",
        "Name: Venkata Akshay\n"
      ],
      "metadata": {
        "id": "Bz2FywLAqQDp"
      }
    },
    {
      "cell_type": "code",
      "source": [
        "import nltk\n",
        "from nltk.chat.util import Chat, reflections"
      ],
      "metadata": {
        "id": "rf4yGZBhCPla"
      },
      "execution_count": 6,
      "outputs": []
    },
    {
      "cell_type": "code",
      "source": [
        "reflections = {\n",
        "  \"i am\"       : \"you are\",\n",
        "  \"i was\"      : \"you were\",\n",
        "  \"i\"          : \"you\",\n",
        "  \"i'm\"        : \"you are\",\n",
        "  \"i'd\"        : \"you would\",\n",
        "  \"i've\"       : \"you have\",\n",
        "  \"i'll\"       : \"you will\",\n",
        "  \"my\"         : \"your\",\n",
        "  \"you are\"    : \"I am\",\n",
        "  \"you were\"   : \"I was\",\n",
        "  \"you've\"     : \"I have\",\n",
        "  \"you'll\"     : \"I will\",\n",
        "  \"your\"       : \"my\",\n",
        "  \"yours\"      : \"mine\",\n",
        "  \"you\"        : \"me\",\n",
        "  \"me\"         : \"you\"\n",
        "}"
      ],
      "metadata": {
        "id": "A0h2CjRTCb8D"
      },
      "execution_count": 7,
      "outputs": []
    },
    {
      "cell_type": "code",
      "source": [
        "pairs = [\n",
        "    [\n",
        "        r\"yes\",\n",
        "        [\"which type of internship you want?\\n1.Data Science\\n2.Artificial Intelligence\\n3.Python Development\\n4.Web Development\\n5.Android Development\\n6.Java Developer\\n7.Graphic Designer\\n8.Content Writer\",]\n",
        "    ],\n",
        "        [\n",
        "        r\"repeat\",\n",
        "        [\"which type of internship you want?\\n1.Data Science\\n2.Artificial Intelligence\\n3.Python Development\\n4.Web Development\\n5.Android Development\\n6.Java Developer\\n7.Graphic Designer\\n8.Content Writer\",]\n",
        "    ],\n",
        "    [\n",
        "        r\"1\",\n",
        "        [\"Data Science Internship Details\\nJob Type- Intern \\nLocation- Remote Work \\nDuration- 4 Weeks\\nFill form from given link : https://internship.codeclause.com/Apply?jobid=12143\",]\n",
        "    ], \n",
        "    [\n",
        "        r\"2\",\n",
        "        [\"Artificial Intelligence Internship Details\\nJob Type- Intern \\nLocation- Remote Work \\nDuration- 4 Weeks\\nFill form from given link : https://internship.codeclause.com/apply?jobid=12244\",]\n",
        "    ],\n",
        "    [\n",
        "        r\"3\",\n",
        "        [\"Python Development Internship Details\\nJob Type- Intern \\nLocation- Remote Work \\nDuration- 4 Weeks\\nFill form from given link : https://internship.codeclause.com/apply?jobid=9876\",]\n",
        "    ],\n",
        "    [\n",
        "        r\"4\",\n",
        "        [\"Web Development Internship Details\\nJob Type- Intern \\nLocation- Remote Work \\nDuration- 4 Weeks\\nFill form from given link : https://internship.codeclause.com/apply?jobid=12345\",]\n",
        "    ],\n",
        "    [\n",
        "        r\"5\",\n",
        "        [\"Android Development Internship Details\\nJob Type- Intern \\nLocation- Remote Work \\nDuration- 4 Weeks\\nFill form from given link : https://internship.codeclause.com/apply?jobid=12446\",]\n",
        "    ],\n",
        "    [\n",
        "        r\"6\",\n",
        "        [\"Java Developer Internship Details\\nJob Type- Intern \\nLocation- Remote Work \\nDuration- 4 Weeks\\nFill form from given link : https://internship.codeclause.com/apply?jobid=12547\",]\n",
        "    ],\n",
        "       [\n",
        "        r\"7\",\n",
        "        [\"Graphic Designer Internship Details\\nJob Type- Intern \\nLocation- Remote Work \\nDuration- 4 Weeks\\nFill form from given link : https://internship.codeclause.com/apply?jobid=12648\",]\n",
        "    ],\n",
        "\n",
        "    [\n",
        "        r\"8\",\n",
        "        [\"Content Writer Internship Details\\nJob Type- Intern \\nLocation- Remote Work \\nDuration- 4 Weeks\\nFill form from given link : https://internship.codeclause.com/apply?jobid=12649\",]\n",
        "    ],\n",
        "\n",
        "    [\n",
        "        r\"quit\",\n",
        "        [\"BBye take care. See you soon. To know more about go to https://codeclause.com/ \\nOr contact on : info@codeclause.com Or official@codeclause.com\",]\n",
        "    ],\n",
        "]"
      ],
      "metadata": {
        "id": "P5cKGjBcCdSK"
      },
      "execution_count": 8,
      "outputs": []
    },
    {
      "cell_type": "code",
      "source": [
        "#For different font color\n",
        "!pip install colorama\n",
        "\n",
        "import colorama\n",
        "from colorama import Fore"
      ],
      "metadata": {
        "colab": {
          "base_uri": "https://localhost:8080/"
        },
        "id": "28UnGctiClMk",
        "outputId": "15b45155-fe62-425f-af5c-32bc923ddb5d"
      },
      "execution_count": 9,
      "outputs": [
        {
          "output_type": "stream",
          "name": "stdout",
          "text": [
            "Looking in indexes: https://pypi.org/simple, https://us-python.pkg.dev/colab-wheels/public/simple/\n",
            "Requirement already satisfied: colorama in /usr/local/lib/python3.10/dist-packages (0.4.6)\n"
          ]
        }
      ]
    },
    {
      "cell_type": "code",
      "source": [
        "#Start the chat\n",
        "print(\"Get the future you want with CodeClause At CodeClause, we endeavor to provide a formidable platform for professionals who will be our change agents - catalysts who will be torchbearers of CodeClause’s fortitude to excel and redefine limits of technology to make our clients successful.\")\n",
        "print(\"\\n Hello, I am your CodeCaluse advisor for short. I will answer your queries about our services.\")\n",
        "\n",
        "print(Fore.RED + \"\\n(Type quit If you want to quit.Or if you want to reapeat a list type repeat)\")\n",
        "\n",
        "print(Fore.BLUE)\n",
        "def chat():\n",
        "   \n",
        "    print(\"\\nAre you intrested in Internships?\\n(Type yes to know more.)\")\n",
        "    chat = Chat(pairs, reflections)\n",
        "    chat.converse()\n",
        "\n",
        "#initiate the conversation\n",
        "if __name__ == \"__main__\":\n",
        "    chat()"
      ],
      "metadata": {
        "colab": {
          "base_uri": "https://localhost:8080/"
        },
        "id": "rKkKCrMfCoYX",
        "outputId": "8d167ba9-61ea-4305-8e7c-a48620888d40"
      },
      "execution_count": 10,
      "outputs": [
        {
          "output_type": "stream",
          "name": "stdout",
          "text": [
            "Get the future you want with CodeClause At CodeClause, we endeavor to provide a formidable platform for professionals who will be our change agents - catalysts who will be torchbearers of CodeClause’s fortitude to excel and redefine limits of technology to make our clients successful.\n",
            "\n",
            " Hello, I am your CodeCaluse advisor for short. I will answer your queries about our services.\n",
            "\u001b[31m\n",
            "(Type quit If you want to quit.Or if you want to reapeat a list type repeat)\n",
            "\u001b[34m\n",
            "\n",
            "Are you intrested in Internships?\n",
            "(Type yes to know more.)\n",
            ">yes\n",
            "which type of internship you want?\n",
            "1.Data Science\n",
            "2.Artificial Intelligence\n",
            "3.Python Development\n",
            "4.Web Development\n",
            "5.Android Development\n",
            "6.Java Developer\n",
            "7.Graphic Designer\n",
            "8.Content Writer\n",
            ">1\n",
            "Data Science Internship Details\n",
            "Job Type- Intern \n",
            "Location- Remote Work \n",
            "Duration- 4 Weeks\n",
            "Fill form from given link : https://internship.codeclause.com/Apply?jobid=12143\n",
            ">3\n",
            "Python Development Internship Details\n",
            "Job Type- Intern \n",
            "Location- Remote Work \n",
            "Duration- 4 Weeks\n",
            "Fill form from given link : https://internship.codeclause.com/apply?jobid=9876\n",
            ">7\n",
            "Graphic Designer Internship Details\n",
            "Job Type- Intern \n",
            "Location- Remote Work \n",
            "Duration- 4 Weeks\n",
            "Fill form from given link : https://internship.codeclause.com/apply?jobid=12648\n",
            ">8\n",
            "Content Writer Internship Details\n",
            "Job Type- Intern \n",
            "Location- Remote Work \n",
            "Duration- 4 Weeks\n",
            "Fill form from given link : https://internship.codeclause.com/apply?jobid=12649\n",
            ">quit\n",
            "BBye take care. See you soon. To know more about go to https://codeclause.com/ \n",
            "Or contact on : info@codeclause.com Or official@codeclause.com\n"
          ]
        }
      ]
    },
    {
      "cell_type": "code",
      "source": [],
      "metadata": {
        "id": "-xhiZAT1Cr86"
      },
      "execution_count": null,
      "outputs": []
    }
  ]
}